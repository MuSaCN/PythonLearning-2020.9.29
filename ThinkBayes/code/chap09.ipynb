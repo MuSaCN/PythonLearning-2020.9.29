{
 "cells": [
  {
   "cell_type": "markdown",
   "metadata": {},
   "source": [
    "# Think Bayes: Chapter 9\n",
    "\n",
    "This notebook presents code and exercises from Think Bayes, second edition.\n",
    "\n",
    "Copyright 2016 Allen B. Downey\n",
    "\n",
    "MIT License: https://opensource.org/licenses/MIT"
   ]
  },
  {
   "cell_type": "code",
   "execution_count": 1,
   "metadata": {},
   "outputs": [],
   "source": [
    "from __future__ import print_function, division\n",
    "\n",
    "% matplotlib inline\n",
    "import warnings\n",
    "warnings.filterwarnings('ignore')\n",
    "\n",
    "import math\n",
    "import numpy as np\n",
    "\n",
    "from thinkbayes2 import Pmf, Cdf, Suite, Joint\n",
    "import thinkplot"
   ]
  },
  {
   "cell_type": "markdown",
   "metadata": {},
   "source": [
    "## Improving Reading Ability\n",
    "\n",
    "From DASL(http://lib.stat.cmu.edu/DASL/Stories/ImprovingReadingAbility.html)\n",
    "\n",
    "> An educator conducted an experiment to test whether new directed reading activities in the classroom will help elementary school pupils improve some aspects of their reading ability. She arranged for a third grade class of 21 students to follow these activities for an 8-week period. A control classroom of 23 third graders followed the same curriculum without the activities. At the end of the 8 weeks, all students took a Degree of Reading Power (DRP) test, which measures the aspects of reading ability that the treatment is designed to improve.\n",
    "\n",
    "> Summary statistics on the two groups of children show that the average score of the treatment class was almost ten points higher than the average of the control class. A two-sample t-test is appropriate for testing whether this difference is statistically significant. The t-statistic is 2.31, which is significant at the .05 level.\n",
    "\n"
   ]
  },
  {
   "cell_type": "markdown",
   "metadata": {},
   "source": [
    "I'll use Pandas to load the data into a DataFrame."
   ]
  },
  {
   "cell_type": "code",
   "execution_count": 2,
   "metadata": {},
   "outputs": [],
   "source": [
    "import pandas as pd\n",
    "\n",
    "df = pd.read_csv('../data/drp_scores.csv', skiprows=21, delimiter='\\t')\n",
    "df.head()"
   ]
  },
  {
   "cell_type": "markdown",
   "metadata": {},
   "source": [
    "And use `groupby` to compute the means for the two groups."
   ]
  },
  {
   "cell_type": "code",
   "execution_count": 3,
   "metadata": {},
   "outputs": [],
   "source": [
    "grouped = df.groupby('Treatment')\n",
    "for name, group in grouped:\n",
    "    print(name, group.Response.mean())"
   ]
  },
  {
   "cell_type": "markdown",
   "metadata": {},
   "source": [
    "The `Normal` class provides a `Likelihood` function that computes the likelihood of a sample from a normal distribution."
   ]
  },
  {
   "cell_type": "code",
   "execution_count": 4,
   "metadata": {},
   "outputs": [],
   "source": [
    "from scipy.stats import norm\n",
    "from thinkbayes2 import EvalNormalPdf\n",
    "\n",
    "class Normal(Suite, Joint):\n",
    "    \n",
    "    def Likelihood(self, data, hypo):\n",
    "        \"\"\"\n",
    "        \n",
    "        data: sequence of test scores\n",
    "        hypo: mu, sigma\n",
    "        \"\"\"\n",
    "        mu, sigma = hypo\n",
    "        likes = EvalNormalPdf(data, mu, sigma)\n",
    "        return np.prod(likes)"
   ]
  },
  {
   "cell_type": "markdown",
   "metadata": {},
   "source": [
    "The prior distributions for `mu` and `sigma` are uniform."
   ]
  },
  {
   "cell_type": "code",
   "execution_count": 5,
   "metadata": {},
   "outputs": [],
   "source": [
    "mus = np.linspace(20, 80, 101)\n",
    "sigmas = np.linspace(5, 30, 101)"
   ]
  },
  {
   "cell_type": "markdown",
   "metadata": {},
   "source": [
    "I use `itertools.product` to enumerate all pairs of `mu` and `sigma`."
   ]
  },
  {
   "cell_type": "code",
   "execution_count": 6,
   "metadata": {},
   "outputs": [],
   "source": [
    "from itertools import product\n",
    "\n",
    "control = Normal(product(mus, sigmas))\n",
    "data = df[df.Treatment=='Control'].Response\n",
    "control.Update(data)"
   ]
  },
  {
   "cell_type": "markdown",
   "metadata": {},
   "source": [
    "After the update, we can plot the probability of each `mu`-`sigma` pair as a contour plot."
   ]
  },
  {
   "cell_type": "code",
   "execution_count": 7,
   "metadata": {},
   "outputs": [],
   "source": [
    "thinkplot.Contour(control, pcolor=True)\n",
    "thinkplot.Config(xlabel='mu', ylabel='sigma')"
   ]
  },
  {
   "cell_type": "markdown",
   "metadata": {},
   "source": [
    "And then we can extract the marginal distribution of `mu`"
   ]
  },
  {
   "cell_type": "code",
   "execution_count": 8,
   "metadata": {},
   "outputs": [],
   "source": [
    "pmf_mu0 = control.Marginal(0)\n",
    "thinkplot.Pdf(pmf_mu0)\n",
    "thinkplot.Config(xlabel='mu', ylabel='Pmf')"
   ]
  },
  {
   "cell_type": "markdown",
   "metadata": {},
   "source": [
    "And the marginal distribution of `sigma`"
   ]
  },
  {
   "cell_type": "code",
   "execution_count": 9,
   "metadata": {},
   "outputs": [],
   "source": [
    "pmf_sigma0 = control.Marginal(1)\n",
    "thinkplot.Pdf(pmf_sigma0)\n",
    "thinkplot.Config(xlabel='sigma', ylabel='Pmf')"
   ]
  },
  {
   "cell_type": "markdown",
   "metadata": {},
   "source": [
    "**Exercise:** Run this analysis again for the control group.  What is the distribution of the difference between the groups?  What is the probability that the average \"reading power\" for the treatment group is higher?  What is the probability that the variance of the treatment group is higher?"
   ]
  },
  {
   "cell_type": "code",
   "execution_count": 10,
   "metadata": {},
   "outputs": [],
   "source": [
    "# Solution goes here"
   ]
  },
  {
   "cell_type": "code",
   "execution_count": 11,
   "metadata": {},
   "outputs": [],
   "source": [
    "# Solution goes here"
   ]
  },
  {
   "cell_type": "code",
   "execution_count": 12,
   "metadata": {},
   "outputs": [],
   "source": [
    "# Solution goes here"
   ]
  },
  {
   "cell_type": "code",
   "execution_count": 13,
   "metadata": {},
   "outputs": [],
   "source": [
    "# Solution goes here"
   ]
  },
  {
   "cell_type": "code",
   "execution_count": 14,
   "metadata": {},
   "outputs": [],
   "source": [
    "# Solution goes here"
   ]
  },
  {
   "cell_type": "code",
   "execution_count": 15,
   "metadata": {},
   "outputs": [],
   "source": [
    "# Solution goes here"
   ]
  },
  {
   "cell_type": "code",
   "execution_count": 16,
   "metadata": {},
   "outputs": [],
   "source": [
    "# Solution goes here"
   ]
  },
  {
   "cell_type": "code",
   "execution_count": 17,
   "metadata": {},
   "outputs": [],
   "source": [
    "# Solution goes here"
   ]
  },
  {
   "cell_type": "code",
   "execution_count": 18,
   "metadata": {},
   "outputs": [],
   "source": [
    "# It looks like there is a high probability that the mean of\n",
    "# the treatment group is higher, and the most likely size of\n",
    "# the effect is 9-10 points.\n",
    "\n",
    "# It looks like the variance of the treated group is substantially\n",
    "# smaller, which suggests that the treatment might be helping\n",
    "# low scorers more than high scorers."
   ]
  },
  {
   "cell_type": "markdown",
   "metadata": {},
   "source": [
    "## Paintball"
   ]
  },
  {
   "cell_type": "markdown",
   "metadata": {},
   "source": [
    "Suppose you are playing paintball in an indoor arena 30 feet\n",
    "wide and 50 feet long.  You are standing near one of the 30 foot\n",
    "walls, and you suspect that one of your opponents has taken cover\n",
    "nearby.  Along the wall, you see several paint spatters, all the same\n",
    "color, that you think your opponent fired recently.\n",
    "\n",
    "The spatters are at 15, 16, 18, and 21 feet, measured from the\n",
    "lower-left corner of the room.  Based on these data, where do you\n",
    "think your opponent is hiding?\n",
    "\n",
    "Here's the Suite that does the update.  It uses `MakeLocationPmf`,\n",
    "defined below."
   ]
  },
  {
   "cell_type": "code",
   "execution_count": 19,
   "metadata": {},
   "outputs": [],
   "source": [
    "class Paintball(Suite, Joint):\n",
    "    \"\"\"Represents hypotheses about the location of an opponent.\"\"\"\n",
    "\n",
    "    def __init__(self, alphas, betas, locations):\n",
    "        \"\"\"Makes a joint suite of parameters alpha and beta.\n",
    "\n",
    "        Enumerates all pairs of alpha and beta.\n",
    "        Stores locations for use in Likelihood.\n",
    "\n",
    "        alphas: possible values for alpha\n",
    "        betas: possible values for beta\n",
    "        locations: possible locations along the wall\n",
    "        \"\"\"\n",
    "        self.locations = locations\n",
    "        pairs = [(alpha, beta) \n",
    "                 for alpha in alphas \n",
    "                 for beta in betas]\n",
    "        Suite.__init__(self, pairs)\n",
    "\n",
    "    def Likelihood(self, data, hypo):\n",
    "        \"\"\"Computes the likelihood of the data under the hypothesis.\n",
    "\n",
    "        hypo: pair of alpha, beta\n",
    "        data: location of a hit\n",
    "\n",
    "        Returns: float likelihood\n",
    "        \"\"\"\n",
    "        alpha, beta = hypo\n",
    "        x = data\n",
    "        pmf = MakeLocationPmf(alpha, beta, self.locations)\n",
    "        like = pmf.Prob(x)\n",
    "        return like"
   ]
  },
  {
   "cell_type": "code",
   "execution_count": null,
   "metadata": {},
   "outputs": [],
   "source": []
  },
  {
   "cell_type": "code",
   "execution_count": 20,
   "metadata": {},
   "outputs": [],
   "source": [
    "def MakeLocationPmf(alpha, beta, locations):\n",
    "    \"\"\"Computes the Pmf of the locations, given alpha and beta. \n",
    "\n",
    "    Given that the shooter is at coordinates (alpha, beta),\n",
    "    the probability of hitting any spot is inversely proportionate\n",
    "    to the strafe speed.\n",
    "\n",
    "    alpha: x position\n",
    "    beta: y position\n",
    "    locations: x locations where the pmf is evaluated\n",
    "\n",
    "    Returns: Pmf object\n",
    "    \"\"\"\n",
    "    pmf = Pmf()\n",
    "    for x in locations:\n",
    "        prob = 1.0 / StrafingSpeed(alpha, beta, x)\n",
    "        pmf.Set(x, prob)\n",
    "    pmf.Normalize()\n",
    "    return pmf"
   ]
  },
  {
   "cell_type": "code",
   "execution_count": null,
   "metadata": {},
   "outputs": [],
   "source": []
  },
  {
   "cell_type": "code",
   "execution_count": 21,
   "metadata": {},
   "outputs": [],
   "source": [
    "def StrafingSpeed(alpha, beta, x):\n",
    "    \"\"\"Computes strafing speed, given location of shooter and impact.\n",
    "\n",
    "    alpha: x location of shooter\n",
    "    beta: y location of shooter\n",
    "    x: location of impact\n",
    "\n",
    "    Returns: derivative of x with respect to theta\n",
    "    \"\"\"\n",
    "    theta = math.atan2(x - alpha, beta)\n",
    "    speed = beta / math.cos(theta)**2\n",
    "    return speed"
   ]
  },
  {
   "cell_type": "markdown",
   "metadata": {},
   "source": [
    "The prior probabilities for `alpha` and `beta` are uniform."
   ]
  },
  {
   "cell_type": "code",
   "execution_count": 22,
   "metadata": {},
   "outputs": [],
   "source": [
    "alphas = range(0, 31)\n",
    "betas = range(1, 51)\n",
    "locations = range(0, 31)\n",
    "\n",
    "suite = Paintball(alphas, betas, locations)\n",
    "suite.UpdateSet([15, 16, 18, 21])"
   ]
  },
  {
   "cell_type": "markdown",
   "metadata": {},
   "source": [
    "To visualize the joint posterior, I take slices for a few values of `beta` and plot the conditional distributions of `alpha`.  If the shooter is close to the wall, we can be somewhat confident of his position.  The farther away he is, the less certain we are."
   ]
  },
  {
   "cell_type": "code",
   "execution_count": 23,
   "metadata": {},
   "outputs": [],
   "source": [
    "locations = range(0, 31)\n",
    "alpha = 10\n",
    "betas = [10, 20, 40]\n",
    "thinkplot.PrePlot(num=len(betas))\n",
    "\n",
    "for beta in betas:\n",
    "    pmf = MakeLocationPmf(alpha, beta, locations)\n",
    "    pmf.label = 'beta = %d' % beta\n",
    "    thinkplot.Pdf(pmf)\n",
    "\n",
    "thinkplot.Config(xlabel='Distance',\n",
    "                ylabel='Prob')"
   ]
  },
  {
   "cell_type": "markdown",
   "metadata": {},
   "source": [
    "Here are the marginal posterior distributions for `alpha` and `beta`."
   ]
  },
  {
   "cell_type": "code",
   "execution_count": 24,
   "metadata": {},
   "outputs": [],
   "source": [
    "marginal_alpha = suite.Marginal(0, label='alpha')\n",
    "marginal_beta = suite.Marginal(1, label='beta')\n",
    "\n",
    "print('alpha CI', marginal_alpha.CredibleInterval(50))\n",
    "print('beta CI', marginal_beta.CredibleInterval(50))\n",
    "\n",
    "thinkplot.PrePlot(num=2)\n",
    "    \n",
    "thinkplot.Cdf(Cdf(marginal_alpha))\n",
    "thinkplot.Cdf(Cdf(marginal_beta))\n",
    "    \n",
    "thinkplot.Config(xlabel='Distance',\n",
    "                ylabel='Prob')"
   ]
  },
  {
   "cell_type": "markdown",
   "metadata": {},
   "source": [
    "To visualize the joint posterior, I take slices for a few values of `beta` and plot the conditional distributions of `alpha`.  If the shooter is close to the wall, we can be somewhat confident of his position.  The farther away he is, the less certain we are."
   ]
  },
  {
   "cell_type": "code",
   "execution_count": 25,
   "metadata": {},
   "outputs": [],
   "source": [
    "betas = [10, 20, 40]\n",
    "thinkplot.PrePlot(num=len(betas))\n",
    "\n",
    "for beta in betas:\n",
    "    cond = suite.Conditional(0, 1, beta)\n",
    "    cond.label = 'beta = %d' % beta\n",
    "    thinkplot.Pdf(cond)\n",
    "\n",
    "thinkplot.Config(xlabel='Distance',\n",
    "                ylabel='Prob')"
   ]
  },
  {
   "cell_type": "markdown",
   "metadata": {},
   "source": [
    "Another way to visualize the posterio distribution: a pseudocolor plot of probability as a function of `alpha` and `beta`."
   ]
  },
  {
   "cell_type": "code",
   "execution_count": 26,
   "metadata": {},
   "outputs": [],
   "source": [
    "thinkplot.Contour(suite.GetDict(), contour=False, pcolor=True)\n",
    "\n",
    "thinkplot.Config(xlabel='alpha',\n",
    "                ylabel='beta',\n",
    "                axis=[0, 30, 0, 20])"
   ]
  },
  {
   "cell_type": "markdown",
   "metadata": {},
   "source": [
    "Here's another visualization that shows posterior credible regions."
   ]
  },
  {
   "cell_type": "code",
   "execution_count": 27,
   "metadata": {},
   "outputs": [],
   "source": [
    "d = dict((pair, 0) for pair in suite.Values())\n",
    "\n",
    "percentages = [75, 50, 25]\n",
    "for p in percentages:\n",
    "    interval = suite.MaxLikeInterval(p)\n",
    "    for pair in interval:\n",
    "        d[pair] += 1\n",
    "\n",
    "thinkplot.Contour(d, contour=False, pcolor=True)\n",
    "thinkplot.Text(17, 4, '25', color='white')\n",
    "thinkplot.Text(17, 15, '50', color='white')\n",
    "thinkplot.Text(17, 30, '75')\n",
    "\n",
    "thinkplot.Config(xlabel='alpha',\n",
    "                   ylabel='beta',\n",
    "                   legend=False)"
   ]
  },
  {
   "cell_type": "code",
   "execution_count": null,
   "metadata": {},
   "outputs": [],
   "source": []
  },
  {
   "cell_type": "markdown",
   "metadata": {},
   "source": [
    "**Exercise:** From [John D. Cook](http://www.johndcook.com/blog/2010/07/13/lincoln-index/)\n",
    "\n",
    "\"Suppose you have a tester who finds 20 bugs in your program. You want to estimate how many bugs are really in the program. You know there are at least 20 bugs, and if you have supreme confidence in your tester, you may suppose there are around 20 bugs. But maybe your tester isn't very good. Maybe there are hundreds of bugs. How can you have any idea how many bugs there are? There’s no way to know with one tester. But if you have two testers, you can get a good idea, even if you don’t know how skilled the testers are.\n",
    "\n",
    "Suppose two testers independently search for bugs. Let k1 be the number of errors the first tester finds and k2 the number of errors the second tester finds. Let c be the number of errors both testers find.  The Lincoln Index estimates the total number of errors as k1 k2 / c [I changed his notation to be consistent with mine].\"\n",
    "\n",
    "So if the first tester finds 20 bugs, the second finds 15, and they find 3 in common, we estimate that there are about 100 bugs.  What is the Bayesian estimate of the number of errors based on this data?"
   ]
  },
  {
   "cell_type": "code",
   "execution_count": 28,
   "metadata": {},
   "outputs": [],
   "source": [
    "# Solution goes here"
   ]
  },
  {
   "cell_type": "code",
   "execution_count": 29,
   "metadata": {},
   "outputs": [],
   "source": [
    "# Solution goes here"
   ]
  },
  {
   "cell_type": "code",
   "execution_count": 30,
   "metadata": {},
   "outputs": [],
   "source": [
    "# Solution goes here"
   ]
  },
  {
   "cell_type": "code",
   "execution_count": 31,
   "metadata": {},
   "outputs": [],
   "source": [
    "# Solution goes here"
   ]
  },
  {
   "cell_type": "markdown",
   "metadata": {},
   "source": [
    "**Exercise:** The GPS problem.  According to [Wikipedia]()\n",
    "\n",
    "￼\n",
    "> GPS included a (currently disabled) feature called Selective Availability (SA) that adds intentional, time varying errors of up to 100 meters (328 ft) to the publicly available navigation signals. This was intended to deny an enemy the use of civilian GPS receivers for precision weapon guidance.\n",
    "> [...]\n",
    "> Before it was turned off on May 2, 2000, typical SA errors were about 50 m (164 ft) horizontally and about 100 m (328 ft) vertically.[10] Because SA affects every GPS receiver in a given area almost equally, a fixed station with an accurately known position can measure the SA error values and transmit them to the local GPS receivers so they may correct their position fixes. This is called Differential GPS or DGPS. DGPS also corrects for several other important sources of GPS errors, particularly ionospheric delay, so it continues to be widely used even though SA has been turned off. The ineffectiveness of SA in the face of widely available DGPS was a common argument for turning off SA, and this was finally done by order of President Clinton in 2000.\n",
    "\n",
    "Suppose it is 1 May 2000, and you are standing in a field that is 200m square.  You are holding a GPS unit that indicates that your location is 51m north and 15m west of a known reference point in the middle of the field.\n",
    "\n",
    "However, you know that each of these coordinates has been perturbed by a \"feature\" that adds random errors with mean 0 and standard deviation 30m.\n",
    "\n",
    "1) After taking one measurement, what should you believe about your position?\n",
    "\n",
    "Note: Since the intentional errors are independent, you could solve this problem independently for X and Y.  But we'll treat it as a two-dimensional problem, partly for practice and partly to see how we could extend the solution to handle dependent errors.\n",
    "\n",
    "You can start with the code in gps.py.\n",
    "\n",
    "2) Suppose that after one second the GPS updates your position and reports coordinates (48, 90).  What should you believe now?\n",
    "\n",
    "3) Suppose you take 8 more measurements and get:\n",
    "\n",
    "    (11.903060613102866, 19.79168669735705)\n",
    "    (77.10743601503178, 39.87062906535289)\n",
    "    (80.16596823095534, -12.797927542984425)\n",
    "    (67.38157493119053, 83.52841028148538)\n",
    "    (89.43965206875271, 20.52141889230797)\n",
    "    (58.794021026248245, 30.23054016065644)\n",
    "    (2.5844401241265302, 51.012041625783766)\n",
    "    (45.58108994142448, 3.5718287379754585)\n",
    "\n",
    "At this point, how certain are you about your location?"
   ]
  },
  {
   "cell_type": "code",
   "execution_count": 32,
   "metadata": {},
   "outputs": [],
   "source": [
    "# Solution goes here"
   ]
  },
  {
   "cell_type": "code",
   "execution_count": 33,
   "metadata": {},
   "outputs": [],
   "source": [
    "# Solution goes here"
   ]
  },
  {
   "cell_type": "code",
   "execution_count": 34,
   "metadata": {},
   "outputs": [],
   "source": [
    "# Solution goes here"
   ]
  },
  {
   "cell_type": "code",
   "execution_count": 35,
   "metadata": {},
   "outputs": [],
   "source": [
    "# Solution goes here"
   ]
  },
  {
   "cell_type": "code",
   "execution_count": 36,
   "metadata": {},
   "outputs": [],
   "source": [
    "# Solution goes here"
   ]
  },
  {
   "cell_type": "code",
   "execution_count": 37,
   "metadata": {},
   "outputs": [],
   "source": [
    "# Solution goes here"
   ]
  },
  {
   "cell_type": "markdown",
   "metadata": {},
   "source": [
    "**Exercise:** [The Flea Beetle problem from DASL](http://lib.stat.cmu.edu/DASL/Datafiles/FleaBeetles.html)\n",
    "\n",
    "Datafile Name: Flea Beetles\n",
    "\n",
    "Datafile Subjects: Biology\n",
    "\n",
    "Story Names: Flea Beetles\n",
    "\n",
    "Reference: Lubischew, A.A. (1962) On the use of discriminant functions in taxonomy. Biometrics, 18, 455-477. Also found in: Hand, D.J., et al. (1994) A Handbook of Small Data Sets, London: Chapman & Hall, 254-255.\n",
    "\n",
    "Authorization: Contact Authors\n",
    "\n",
    "Description: Data were collected on the genus of flea beetle Chaetocnema, which contains three species: concinna (Con), heikertingeri (Hei), and heptapotamica (Hep). Measurements were made on the width and angle of the aedeagus of each beetle. The goal of the original study was to form a classification rule to distinguish the three species.\n",
    "\n",
    "Number of cases: 74\n",
    "\n",
    "Variable Names:\n",
    "\n",
    "Width: The maximal width of aedeagus in the forpart (in microns)\n",
    "\n",
    "Angle: The front angle of the aedeagus (1 unit = 7.5 degrees)\n",
    "\n",
    "Species: Species of flea beetle from the genus Chaetocnema\n"
   ]
  },
  {
   "cell_type": "markdown",
   "metadata": {},
   "source": [
    "Suggestions: \n",
    "\n",
    "1. Plot CDFs for the width and angle data, broken down by species, to get a visual sense of whether the normal distribution is a good model.\n",
    "\n",
    "2. Use the data to estimate the mean and standard deviation for each variable, broken down by species.\n",
    "\n",
    "3. Given a joint posterior distribution for `mu` and `sigma`, what is the likelihood of a given datum?\n",
    "\n",
    "4. Write a function that takes a measured width and angle and returns a posterior PMF of species.\n",
    "\n",
    "5. Use the function to classify each of the specimens in the table and see how many you get right.\n"
   ]
  },
  {
   "cell_type": "code",
   "execution_count": 39,
   "metadata": {},
   "outputs": [],
   "source": [
    "import pandas as pd\n",
    "\n",
    "df = pd.read_csv('../data/flea_beetles.csv', delimiter='\\t')\n",
    "df.head()"
   ]
  },
  {
   "cell_type": "code",
   "execution_count": 40,
   "metadata": {},
   "outputs": [],
   "source": [
    "def plot_cdfs(df, col):\n",
    "    for name, group in df.groupby('Species'):\n",
    "        cdf = Cdf(group[col], label=name)\n",
    "        thinkplot.Cdf(cdf)\n",
    "    \n",
    "    thinkplot.Config(xlabel=col, legend=True, loc='lower right')"
   ]
  },
  {
   "cell_type": "code",
   "execution_count": 41,
   "metadata": {},
   "outputs": [],
   "source": [
    "plot_cdfs(df, 'Width')"
   ]
  },
  {
   "cell_type": "code",
   "execution_count": 42,
   "metadata": {},
   "outputs": [],
   "source": [
    "plot_cdfs(df, 'Angle')"
   ]
  },
  {
   "cell_type": "code",
   "execution_count": 43,
   "metadata": {},
   "outputs": [],
   "source": [
    "from thinkbayes2 import EvalNormalPdf\n",
    "\n",
    "class Beetle(Suite, Joint):\n",
    "    \n",
    "    def Likelihood(self, data, hypo):\n",
    "        \"\"\"\n",
    "        data: sequence of measurements\n",
    "        hypo: mu, sigma\n",
    "        \"\"\"\n",
    "        mu, sigma = hypo\n",
    "        likes = EvalNormalPdf(data, mu, sigma)\n",
    "        return np.prod(likes)\n",
    "    \n",
    "    def PredictiveProb(self, data):\n",
    "        \"\"\"Compute the posterior total probability of a datum.\n",
    "        \n",
    "        data: sequence of measurements\n",
    "        \"\"\"\n",
    "        total = 0\n",
    "        for (mu, sigma), prob in self.Items():\n",
    "            likes = norm.pdf(data, mu, sigma)\n",
    "            total += prob * np.prod(likes)\n",
    "        return total"
   ]
  },
  {
   "cell_type": "code",
   "execution_count": 44,
   "metadata": {},
   "outputs": [],
   "source": [
    "from itertools import product\n",
    "\n",
    "def MakeWidthSuite(data):\n",
    "    mus = np.linspace(115, 160, 51)\n",
    "    sigmas = np.linspace(1, 10, 51)\n",
    "    suite = Beetle(product(mus, sigmas))\n",
    "    suite.Update(data)\n",
    "    return suite"
   ]
  },
  {
   "cell_type": "code",
   "execution_count": 45,
   "metadata": {},
   "outputs": [],
   "source": [
    "groups = df.groupby('Species')"
   ]
  },
  {
   "cell_type": "code",
   "execution_count": 46,
   "metadata": {},
   "outputs": [],
   "source": [
    "for name, group in groups:\n",
    "    suite = MakeWidthSuite(group.Width)\n",
    "    thinkplot.Contour(suite)\n",
    "    print(name, suite.PredictiveProb(137))"
   ]
  },
  {
   "cell_type": "code",
   "execution_count": 47,
   "metadata": {},
   "outputs": [],
   "source": [
    "def MakeAngleSuite(data):\n",
    "    mus = np.linspace(8, 16, 101)\n",
    "    sigmas = np.linspace(0.1, 2, 101)\n",
    "    suite = Beetle(product(mus, sigmas))\n",
    "    suite.Update(data)\n",
    "    return suite"
   ]
  },
  {
   "cell_type": "code",
   "execution_count": 48,
   "metadata": {},
   "outputs": [],
   "source": [
    "for name, group in groups:\n",
    "    suite = MakeAngleSuite(group.Angle)\n",
    "    thinkplot.Contour(suite)\n",
    "    print(name, suite.PredictiveProb(13))"
   ]
  },
  {
   "cell_type": "code",
   "execution_count": 49,
   "metadata": {},
   "outputs": [],
   "source": [
    "class Species:\n",
    "    \n",
    "    def __init__(self, name, suite_width, suite_angle):\n",
    "        self.name = name\n",
    "        self.suite_width = suite_width\n",
    "        self.suite_angle = suite_angle\n",
    "        \n",
    "    def __str__(self):\n",
    "        return self.name\n",
    "        \n",
    "    def Likelihood(self, data):\n",
    "        width, angle = data\n",
    "        like1 = self.suite_width.PredictiveProb(width)\n",
    "        like2 = self.suite_angle.PredictiveProb(angle)\n",
    "        return like1 * like2"
   ]
  },
  {
   "cell_type": "code",
   "execution_count": 50,
   "metadata": {},
   "outputs": [],
   "source": [
    "species = {}\n",
    "\n",
    "for name, group in groups:\n",
    "    suite_width = MakeWidthSuite(group.Width)\n",
    "    suite_angle = MakeAngleSuite(group.Angle)\n",
    "    species[name] = Species(name, suite_width, suite_angle)"
   ]
  },
  {
   "cell_type": "code",
   "execution_count": 51,
   "metadata": {},
   "outputs": [],
   "source": [
    "species['Con'].Likelihood((145, 14))"
   ]
  },
  {
   "cell_type": "code",
   "execution_count": 52,
   "metadata": {},
   "outputs": [],
   "source": [
    "class Classifier(Suite):\n",
    "    \n",
    "    def Likelihood(self, data, hypo):\n",
    "        return hypo.Likelihood(data)"
   ]
  },
  {
   "cell_type": "code",
   "execution_count": 54,
   "metadata": {},
   "outputs": [],
   "source": [
    "suite = Classifier(species.values())\n",
    "for hypo, prob in suite.Items():\n",
    "    print(hypo, prob)"
   ]
  },
  {
   "cell_type": "code",
   "execution_count": 55,
   "metadata": {},
   "outputs": [],
   "source": [
    "suite.Update((145, 14))\n",
    "for hypo, prob in suite.Items():\n",
    "    print(hypo, prob)"
   ]
  },
  {
   "cell_type": "code",
   "execution_count": null,
   "metadata": {},
   "outputs": [],
   "source": []
  }
 ],
 "metadata": {
  "kernelspec": {
   "display_name": "Python 3",
   "language": "python",
   "name": "python3"
  },
  "language_info": {
   "codemirror_mode": {
    "name": "ipython",
    "version": 3
   },
   "file_extension": ".py",
   "mimetype": "text/x-python",
   "name": "python",
   "nbconvert_exporter": "python",
   "pygments_lexer": "ipython3",
   "version": "3.6.5"
  }
 },
 "nbformat": 4,
 "nbformat_minor": 2
}
