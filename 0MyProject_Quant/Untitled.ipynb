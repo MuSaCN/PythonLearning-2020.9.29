{
 "cells": [
  {
   "cell_type": "code",
   "execution_count": 1,
   "metadata": {},
   "outputs": [
    {
     "name": "stderr",
     "output_type": "stream",
     "text": [
      "c:\\users\\i2011\\appdata\\local\\programs\\python\\python37\\lib\\site-packages\\ffn\\core.py:27: MatplotlibDeprecationWarning: The 'warn' parameter of use() is deprecated since Matplotlib 3.1 and will be removed in 3.3.  If any parameter follows 'warn', they should be pass as keyword, not positionally.\n",
      "  matplotlib.use('agg', warn=False)\n",
      "c:\\users\\i2011\\appdata\\local\\programs\\python\\python37\\lib\\site-packages\\pandas_datareader\\compat\\__init__.py:7: FutureWarning: pandas.util.testing is deprecated. Use the functions in the public API at pandas.testing instead.\n",
      "  from pandas.util.testing import assert_frame_equal\n"
     ]
    }
   ],
   "source": [
    "# Author:Zhang Yuan\n",
    "from MyPackage import *\n",
    "import numpy as np\n",
    "import pandas as pd\n",
    "import matplotlib.pyplot as plt\n",
    "import matplotlib.patches as patches\n",
    "import seaborn as sns\n",
    "import statsmodels.api as sm\n",
    "from scipy import stats\n",
    "\n",
    "#------------------------------------------------------------\n",
    "__mypath__ = MyPath.MyClass_Path(\"\")  # 路径类\n",
    "myfile = MyFile.MyClass_File()  # 文件操作类\n",
    "myword = MyFile.MyClass_Word()  # word生成类\n",
    "myexcel = MyFile.MyClass_Excel()  # excel生成类\n",
    "mytime = MyTime.MyClass_Time()  # 时间类\n",
    "myplt = MyPlot.MyClass_Plot()  # 直接绘图类(单个图窗)\n",
    "mypltpro = MyPlot.MyClass_PlotPro()  # Plot高级图系列\n",
    "myfig = MyPlot.MyClass_Figure(AddFigure=False)  # 对象式绘图类(可多个图窗)\n",
    "myfigpro = MyPlot.MyClass_FigurePro(AddFigure=False)  # Figure高级图系列\n",
    "mynp = MyArray.MyClass_NumPy()  # 多维数组类(整合Numpy)\n",
    "mypd = MyArray.MyClass_Pandas()  # 矩阵数组类(整合Pandas)\n",
    "mypdpro = MyArray.MyClass_PandasPro()  # 高级矩阵数组类\n",
    "myDA = MyDataAnalysis.MyClass_DataAnalysis()  # 数据分析类\n",
    "# myMql = MyMql.MyClass_MqlBackups() # Mql备份类\n",
    "# myDefault = MyDefault.MyClass_Default_Matplotlib() # matplotlib默认设置\n",
    "# myBaidu = MyWebCrawler.MyClass_BaiduPan() # Baidu网盘交互类\n",
    "# myImage = MyImage.MyClass_ImageProcess()  # 图片处理类\n",
    "myBT = MyBackTest.MyClass_BackTestEvent()  # 事件驱动型回测类\n",
    "myBTV = MyBackTest.MyClass_BackTestVector()  # 向量型回测类\n",
    "myML = MyMachineLearning.MyClass_MachineLearning()  # 机器学习综合类\n",
    "mySQL = MyDataBase.MyClass_MySQL(connect=False)  # MySQL类\n",
    "mySQLAPP = MyDataBase.MyClass_SQL_APPIntegration()  # 数据库应用整合\n",
    "myWebQD = MyWebCrawler.MyClass_QuotesDownload(tushare=False)  # 金融行情下载类\n",
    "myWebR = MyWebCrawler.MyClass_Requests()  # Requests爬虫类\n",
    "myWebS = MyWebCrawler.MyClass_Selenium(openChrome=False)  # Selenium模拟浏览器类\n",
    "myWebAPP = MyWebCrawler.MyClass_Web_APPIntegration()  # 爬虫整合应用类\n",
    "myEmail = MyWebCrawler.MyClass_Email()  # 邮箱交互类\n",
    "myReportA = MyQuant.MyClass_ReportAnalysis()  # 研报分析类\n",
    "myFactorD = MyQuant.MyClass_Factor_Detection()  # 因子检测类\n",
    "myKeras = MyDeepLearning.MyClass_tfKeras()  # tfKeras综合类\n",
    "myTensor = MyDeepLearning.MyClass_TensorFlow()  # Tensorflow综合类\n",
    "myMT5 = MyMql.MyClass_ConnectMT5(connect=False)  # Python链接MetaTrader5客户端类\n",
    "myPjMT5 = MyProject.MT5_MLLearning()  # MT5机器学习项目类\n",
    "#------------------------------------------------------------"
   ]
  },
  {
   "cell_type": "code",
   "execution_count": 2,
   "metadata": {},
   "outputs": [
    {
     "name": "stdout",
     "output_type": "stream",
     "text": [
      "缺失值检查：\n",
      "time           0\n",
      "open           0\n",
      "high           0\n",
      "low            0\n",
      "close          0\n",
      "tick_volume    0\n",
      "spread         0\n",
      "real_volume    0\n",
      "dtype: int64\n"
     ]
    }
   ],
   "source": [
    "import warnings\n",
    "warnings.filterwarnings('ignore')\n",
    "# ---获取数据\n",
    "eurusd = myPjMT5.getsymboldata(\"EURUSD\",\"TIMEFRAME_D1\",[2010,1,1,0,0,0],[2020,1,1,0,0,0],index_time=True)\n"
   ]
  },
  {
   "cell_type": "code",
   "execution_count": 3,
   "metadata": {},
   "outputs": [],
   "source": [
    "# ---计算信号，仅分析做多信号\n",
    "price = eurusd.close   # 设定价格为考虑收盘价\n",
    "myplt.set_backend(\"agg\")"
   ]
  },
  {
   "cell_type": "code",
   "execution_count": 5,
   "metadata": {},
   "outputs": [],
   "source": [
    "holding = 1\n",
    "k = 109\n",
    "# 获取信号数据\n",
    "signaldata = myBTV.stra.momentum(price, k=k, holding=holding, sig_mode=\"BuyOnly\", stra_mode=\"Continue\")\n",
    "# 信号分析\n",
    "outStrat, outSignal = myBTV.signal_quality(signaldata[\"buysignal\"], price_DataFrame=eurusd, holding=holding, lag_trade=1, plotRet=False, plotStrat=True)"
   ]
  },
  {
   "cell_type": "code",
   "execution_count": null,
   "metadata": {},
   "outputs": [],
   "source": []
  }
 ],
 "metadata": {
  "kernelspec": {
   "display_name": "Python 3",
   "language": "python",
   "name": "python3"
  },
  "language_info": {
   "codemirror_mode": {
    "name": "ipython",
    "version": 3
   },
   "file_extension": ".py",
   "mimetype": "text/x-python",
   "name": "python",
   "nbconvert_exporter": "python",
   "pygments_lexer": "ipython3",
   "version": "3.7.7"
  }
 },
 "nbformat": 4,
 "nbformat_minor": 4
}
